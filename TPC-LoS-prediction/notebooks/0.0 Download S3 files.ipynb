{
 "cells": [
  {
   "cell_type": "code",
   "execution_count": 1,
   "id": "e0ab470e",
   "metadata": {},
   "outputs": [],
   "source": [
    "from working_dir import set_working_dir"
   ]
  },
  {
   "cell_type": "code",
   "execution_count": 2,
   "id": "9afb968f",
   "metadata": {},
   "outputs": [
    {
     "name": "stdout",
     "output_type": "stream",
     "text": [
      "Current working directory: /home/ec2-user/SageMaker/DL4H-Project/TPC-LoS-prediction\n"
     ]
    }
   ],
   "source": [
    "set_working_dir()"
   ]
  },
  {
   "cell_type": "code",
   "execution_count": null,
   "id": "b599755b",
   "metadata": {},
   "outputs": [],
   "source": []
  },
  {
   "cell_type": "code",
   "execution_count": 3,
   "id": "da5d5eb8",
   "metadata": {},
   "outputs": [
    {
     "data": {
      "text/plain": [
       "'arn:aws:iam::128074439087:role/service-role/AmazonSageMaker-ExecutionRole-20210217T110005'"
      ]
     },
     "execution_count": 3,
     "metadata": {},
     "output_type": "execute_result"
    }
   ],
   "source": [
    "# AWS Python SDK\n",
    "import boto3\n",
    "\n",
    "# When running on SageMaker, need execution role\n",
    "from sagemaker import get_execution_role\n",
    "role = get_execution_role()\n",
    "role"
   ]
  },
  {
   "cell_type": "code",
   "execution_count": 4,
   "id": "a5317c66",
   "metadata": {},
   "outputs": [],
   "source": [
    "# Declare bucket name, remote file, and destination\n",
    "my_bucket = 'dl4h'\n",
    "files = ['train.7z', 'val.7z', 'test.7z']"
   ]
  },
  {
   "cell_type": "code",
   "execution_count": 5,
   "id": "1b258ce9",
   "metadata": {},
   "outputs": [],
   "source": [
    "# Connect to S3 bucket and download file\n",
    "s3 = boto3.resource('s3')\n",
    "for f in files:\n",
    "    s3.Bucket(my_bucket).download_file(f, f)"
   ]
  }
 ],
 "metadata": {
  "kernelspec": {
   "display_name": "conda_python3",
   "language": "python",
   "name": "conda_python3"
  },
  "language_info": {
   "codemirror_mode": {
    "name": "ipython",
    "version": 3
   },
   "file_extension": ".py",
   "mimetype": "text/x-python",
   "name": "python",
   "nbconvert_exporter": "python",
   "pygments_lexer": "ipython3",
   "version": "3.6.13"
  }
 },
 "nbformat": 4,
 "nbformat_minor": 5
}
