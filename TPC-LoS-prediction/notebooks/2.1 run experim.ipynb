{
 "cells": [
  {
   "cell_type": "code",
   "execution_count": 1,
   "id": "3f9890e6-3675-49d0-90b4-c3f953c1ffcf",
   "metadata": {},
   "outputs": [],
   "source": [
    "from working_dir import set_working_dir"
   ]
  },
  {
   "cell_type": "code",
   "execution_count": 2,
   "id": "31982fcb-76ab-4ed2-a7c9-d0dc3f7ad86b",
   "metadata": {},
   "outputs": [
    {
     "name": "stdout",
     "output_type": "stream",
     "text": [
      "Current working directory: D:\\git\\DL4H-Project\\TPC-LoS-prediction\n"
     ]
    }
   ],
   "source": [
    "set_working_dir()"
   ]
  },
  {
   "cell_type": "code",
   "execution_count": null,
   "id": "09bf9bd5-f453-48c3-a7fd-afe595ef11c8",
   "metadata": {},
   "outputs": [],
   "source": []
  },
  {
   "cell_type": "markdown",
   "id": "23094abb-da1f-4702-b055-b389ec4271d8",
   "metadata": {},
   "source": [
    "# TPC"
   ]
  },
  {
   "cell_type": "code",
   "execution_count": 3,
   "id": "92ebdbda-07e9-4121-a717-443ab1f46c75",
   "metadata": {},
   "outputs": [
    {
     "name": "stderr",
     "output_type": "stream",
     "text": [
      "c:\\users\\weich\\anaconda3\\envs\\dl4h-project\\lib\\site-packages\\tqdm\\auto.py:22: TqdmWarning: IProgress not found. Please update jupyter and ipywidgets. See https://ipywidgets.readthedocs.io/en/stable/user_install.html\n",
      "  from .autonotebook import tqdm as notebook_tqdm\n"
     ]
    }
   ],
   "source": [
    "from main import run_tpc"
   ]
  },
  {
   "cell_type": "code",
   "execution_count": 4,
   "id": "7297a95d-f955-43aa-af74-22eabb1bc6a3",
   "metadata": {},
   "outputs": [
    {
     "name": "stdout",
     "output_type": "stream",
     "text": [
      "Config:\n",
      "{\n",
      "    \"L2_regularisation\": 0,\n",
      "    \"alpha\": 100,\n",
      "    \"base_dir\": \"models/experiments/eICU/LoS/TPC\",\n",
      "    \"batch_size\": 32,\n",
      "    \"batch_size_test\": 32,\n",
      "    \"batchnorm\": \"mybatchnorm\",\n",
      "    \"dataset\": \"eICU\",\n",
      "    \"diagnosis_size\": 64,\n",
      "    \"disable_cuda\": false,\n",
      "    \"exp_name\": \"TPC\",\n",
      "    \"intermediate_reporting\": false,\n",
      "    \"kernel_size\": 4,\n",
      "    \"labs_only\": false,\n",
      "    \"last_linear_size\": 17,\n",
      "    \"learning_rate\": 0.00226,\n",
      "    \"loss\": \"msle\",\n",
      "    \"main_dropout_rate\": 0.45,\n",
      "    \"mode\": \"train\",\n",
      "    \"model_type\": \"tpc\",\n",
      "    \"n_epochs\": 15,\n",
      "    \"n_layers\": 9,\n",
      "    \"name\": \"TPC\",\n",
      "    \"no_diag\": false,\n",
      "    \"no_exp\": false,\n",
      "    \"no_labs\": false,\n",
      "    \"no_mask\": false,\n",
      "    \"no_skip_connections\": false,\n",
      "    \"no_temp_kernels\": 12,\n",
      "    \"percentage_data\": 100.0,\n",
      "    \"point_size\": 13,\n",
      "    \"point_sizes\": [\n",
      "        13,\n",
      "        13,\n",
      "        13,\n",
      "        13,\n",
      "        13,\n",
      "        13,\n",
      "        13,\n",
      "        13,\n",
      "        13\n",
      "    ],\n",
      "    \"save_results_csv\": false,\n",
      "    \"seed\": 860666655,\n",
      "    \"share_weights\": false,\n",
      "    \"shuffle_train\": false,\n",
      "    \"sum_losses\": true,\n",
      "    \"task\": \"LoS\",\n",
      "    \"temp_dropout_rate\": 0.05,\n",
      "    \"temp_kernels\": [\n",
      "        12,\n",
      "        12,\n",
      "        12,\n",
      "        12,\n",
      "        12,\n",
      "        12,\n",
      "        12,\n",
      "        12,\n",
      "        12\n",
      "    ]\n",
      "}\n",
      "Experiment set up.\n",
      "TempPointConv(\n",
      "  (relu): ReLU()\n",
      "  (sigmoid): Sigmoid()\n",
      "  (hardtanh): Hardtanh(min_val=0.020833333333333332, max_val=100)\n",
      "  (msle_loss): MSLELoss(\n",
      "    (squared_error): MSELoss()\n",
      "  )\n",
      "  (mse_loss): MSELoss(\n",
      "    (squared_error): MSELoss()\n",
      "  )\n",
      "  (bce_loss): BCELoss()\n",
      "  (main_dropout): Dropout(p=0.45, inplace=False)\n",
      "  (temp_dropout): Dropout(p=0.05, inplace=False)\n",
      "  (empty_module): EmptyModule()\n",
      "  (diagnosis_encoder): Linear(in_features=293, out_features=64, bias=True)\n",
      "  (bn_diagnosis_encoder): MyBatchNorm1d(64, eps=1e-05, momentum=0.1, affine=True, track_running_stats=True)\n",
      "  (bn_point_last_los): MyBatchNorm1d(17, eps=1e-05, momentum=0.1, affine=True, track_running_stats=True)\n",
      "  (bn_point_last_mort): MyBatchNorm1d(17, eps=1e-05, momentum=0.1, affine=True, track_running_stats=True)\n",
      "  (point_final_los): Linear(in_features=17, out_features=1, bias=True)\n",
      "  (point_final_mort): Linear(in_features=17, out_features=1, bias=True)\n",
      "  (layer_modules): ModuleDict(\n",
      "    (0): ModuleDict(\n",
      "      (temp): Conv1d(174, 1044, kernel_size=(4,), stride=(1,), groups=87)\n",
      "      (bn_temp): MyBatchNorm1d(1044, eps=1e-05, momentum=0.1, affine=True, track_running_stats=True)\n",
      "      (point): Linear(in_features=241, out_features=13, bias=True)\n",
      "      (bn_point): MyBatchNorm1d(13, eps=1e-05, momentum=0.1, affine=True, track_running_stats=True)\n",
      "    )\n",
      "    (1): ModuleDict(\n",
      "      (temp): Conv1d(1300, 1200, kernel_size=(4,), stride=(1,), dilation=(3,), groups=100)\n",
      "      (bn_temp): MyBatchNorm1d(1200, eps=1e-05, momentum=0.1, affine=True, track_running_stats=True)\n",
      "      (point): Linear(in_features=1298, out_features=13, bias=True)\n",
      "      (bn_point): MyBatchNorm1d(13, eps=1e-05, momentum=0.1, affine=True, track_running_stats=True)\n",
      "    )\n",
      "    (2): ModuleDict(\n",
      "      (temp): Conv1d(1469, 1356, kernel_size=(4,), stride=(1,), dilation=(6,), groups=113)\n",
      "      (bn_temp): MyBatchNorm1d(1356, eps=1e-05, momentum=0.1, affine=True, track_running_stats=True)\n",
      "      (point): Linear(in_features=1454, out_features=13, bias=True)\n",
      "      (bn_point): MyBatchNorm1d(13, eps=1e-05, momentum=0.1, affine=True, track_running_stats=True)\n",
      "    )\n",
      "    (3): ModuleDict(\n",
      "      (temp): Conv1d(1638, 1512, kernel_size=(4,), stride=(1,), dilation=(9,), groups=126)\n",
      "      (bn_temp): MyBatchNorm1d(1512, eps=1e-05, momentum=0.1, affine=True, track_running_stats=True)\n",
      "      (point): Linear(in_features=1610, out_features=13, bias=True)\n",
      "      (bn_point): MyBatchNorm1d(13, eps=1e-05, momentum=0.1, affine=True, track_running_stats=True)\n",
      "    )\n",
      "    (4): ModuleDict(\n",
      "      (temp): Conv1d(1807, 1668, kernel_size=(4,), stride=(1,), dilation=(12,), groups=139)\n",
      "      (bn_temp): MyBatchNorm1d(1668, eps=1e-05, momentum=0.1, affine=True, track_running_stats=True)\n",
      "      (point): Linear(in_features=1766, out_features=13, bias=True)\n",
      "      (bn_point): MyBatchNorm1d(13, eps=1e-05, momentum=0.1, affine=True, track_running_stats=True)\n",
      "    )\n",
      "    (5): ModuleDict(\n",
      "      (temp): Conv1d(1976, 1824, kernel_size=(4,), stride=(1,), dilation=(15,), groups=152)\n",
      "      (bn_temp): MyBatchNorm1d(1824, eps=1e-05, momentum=0.1, affine=True, track_running_stats=True)\n",
      "      (point): Linear(in_features=1922, out_features=13, bias=True)\n",
      "      (bn_point): MyBatchNorm1d(13, eps=1e-05, momentum=0.1, affine=True, track_running_stats=True)\n",
      "    )\n",
      "    (6): ModuleDict(\n",
      "      (temp): Conv1d(2145, 1980, kernel_size=(4,), stride=(1,), dilation=(18,), groups=165)\n",
      "      (bn_temp): MyBatchNorm1d(1980, eps=1e-05, momentum=0.1, affine=True, track_running_stats=True)\n",
      "      (point): Linear(in_features=2078, out_features=13, bias=True)\n",
      "      (bn_point): MyBatchNorm1d(13, eps=1e-05, momentum=0.1, affine=True, track_running_stats=True)\n",
      "    )\n",
      "    (7): ModuleDict(\n",
      "      (temp): Conv1d(2314, 2136, kernel_size=(4,), stride=(1,), dilation=(21,), groups=178)\n",
      "      (bn_temp): MyBatchNorm1d(2136, eps=1e-05, momentum=0.1, affine=True, track_running_stats=True)\n",
      "      (point): Linear(in_features=2234, out_features=13, bias=True)\n",
      "      (bn_point): MyBatchNorm1d(13, eps=1e-05, momentum=0.1, affine=True, track_running_stats=True)\n",
      "    )\n",
      "    (8): ModuleDict(\n",
      "      (temp): Conv1d(2483, 2292, kernel_size=(4,), stride=(1,), dilation=(24,), groups=191)\n",
      "      (bn_temp): MyBatchNorm1d(2292, eps=1e-05, momentum=0.1, affine=True, track_running_stats=True)\n",
      "      (point): Linear(in_features=2390, out_features=13, bias=True)\n",
      "      (bn_point): MyBatchNorm1d(13, eps=1e-05, momentum=0.1, affine=True, track_running_stats=True)\n",
      "    )\n",
      "  )\n",
      "  (point_last_los): Linear(in_features=2781, out_features=17, bias=True)\n",
      "  (point_last_mort): Linear(in_features=2781, out_features=17, bias=True)\n",
      ")\n",
      "Experiment started.\n"
     ]
    },
    {
     "ename": "KeyboardInterrupt",
     "evalue": "",
     "output_type": "error",
     "traceback": [
      "\u001b[1;31m---------------------------------------------------------------------------\u001b[0m",
      "\u001b[1;31mKeyboardInterrupt\u001b[0m                         Traceback (most recent call last)",
      "\u001b[1;32m~\\AppData\\Local\\Temp\\ipykernel_11096\\2535993186.py\u001b[0m in \u001b[0;36m<module>\u001b[1;34m\u001b[0m\n\u001b[1;32m----> 1\u001b[1;33m \u001b[0mrun_tpc\u001b[0m\u001b[1;33m(\u001b[0m\u001b[1;33m)\u001b[0m\u001b[1;33m\u001b[0m\u001b[1;33m\u001b[0m\u001b[0m\n\u001b[0m",
      "\u001b[1;32mD:\\git\\DL4H-Project\\TPC-LoS-prediction\\main.py\u001b[0m in \u001b[0;36mrun_tpc\u001b[1;34m()\u001b[0m\n\u001b[0;32m     35\u001b[0m               \u001b[0mbase_dir\u001b[0m\u001b[1;33m=\u001b[0m\u001b[0mlog_folder_path\u001b[0m\u001b[1;33m,\u001b[0m\u001b[1;33m\u001b[0m\u001b[1;33m\u001b[0m\u001b[0m\n\u001b[0;32m     36\u001b[0m               explogger_kwargs={'folder_format': '%Y-%m-%d_%H%M%S{run_number}'})\n\u001b[1;32m---> 37\u001b[1;33m     \u001b[0mtpc\u001b[0m\u001b[1;33m.\u001b[0m\u001b[0mrun\u001b[0m\u001b[1;33m(\u001b[0m\u001b[1;33m)\u001b[0m\u001b[1;33m\u001b[0m\u001b[1;33m\u001b[0m\u001b[0m\n\u001b[0m\u001b[0;32m     38\u001b[0m \u001b[1;33m\u001b[0m\u001b[0m\n\u001b[0;32m     39\u001b[0m \u001b[1;33m\u001b[0m\u001b[0m\n",
      "\u001b[1;32mc:\\users\\weich\\anaconda3\\envs\\dl4h-project\\lib\\site-packages\\trixi\\experiment\\experiment.py\u001b[0m in \u001b[0;36mrun\u001b[1;34m(self, setup)\u001b[0m\n\u001b[0;32m     87\u001b[0m             \u001b[0mself\u001b[0m\u001b[1;33m.\u001b[0m\u001b[0m__stop\u001b[0m \u001b[1;33m=\u001b[0m \u001b[1;32mFalse\u001b[0m\u001b[1;33m\u001b[0m\u001b[1;33m\u001b[0m\u001b[0m\n\u001b[0;32m     88\u001b[0m             \u001b[1;32mwhile\u001b[0m \u001b[0mself\u001b[0m\u001b[1;33m.\u001b[0m\u001b[0m_epoch_idx\u001b[0m \u001b[1;33m<\u001b[0m \u001b[0mself\u001b[0m\u001b[1;33m.\u001b[0m\u001b[0mn_epochs\u001b[0m \u001b[1;32mand\u001b[0m \u001b[1;32mnot\u001b[0m \u001b[0mself\u001b[0m\u001b[1;33m.\u001b[0m\u001b[0m__stop\u001b[0m\u001b[1;33m:\u001b[0m\u001b[1;33m\u001b[0m\u001b[1;33m\u001b[0m\u001b[0m\n\u001b[1;32m---> 89\u001b[1;33m                 \u001b[0mself\u001b[0m\u001b[1;33m.\u001b[0m\u001b[0mtrain\u001b[0m\u001b[1;33m(\u001b[0m\u001b[0mepoch\u001b[0m\u001b[1;33m=\u001b[0m\u001b[0mself\u001b[0m\u001b[1;33m.\u001b[0m\u001b[0m_epoch_idx\u001b[0m\u001b[1;33m)\u001b[0m\u001b[1;33m\u001b[0m\u001b[1;33m\u001b[0m\u001b[0m\n\u001b[0m\u001b[0;32m     90\u001b[0m                 \u001b[0mself\u001b[0m\u001b[1;33m.\u001b[0m\u001b[0mvalidate\u001b[0m\u001b[1;33m(\u001b[0m\u001b[0mepoch\u001b[0m\u001b[1;33m=\u001b[0m\u001b[0mself\u001b[0m\u001b[1;33m.\u001b[0m\u001b[0m_epoch_idx\u001b[0m\u001b[1;33m)\u001b[0m\u001b[1;33m\u001b[0m\u001b[1;33m\u001b[0m\u001b[0m\n\u001b[0;32m     91\u001b[0m                 \u001b[0mself\u001b[0m\u001b[1;33m.\u001b[0m\u001b[0m_end_epoch_internal\u001b[0m\u001b[1;33m(\u001b[0m\u001b[0mepoch\u001b[0m\u001b[1;33m=\u001b[0m\u001b[0mself\u001b[0m\u001b[1;33m.\u001b[0m\u001b[0m_epoch_idx\u001b[0m\u001b[1;33m)\u001b[0m\u001b[1;33m\u001b[0m\u001b[1;33m\u001b[0m\u001b[0m\n",
      "\u001b[1;32mD:\\git\\DL4H-Project\\TPC-LoS-prediction\\models\\experiment_template.py\u001b[0m in \u001b[0;36mtrain\u001b[1;34m(self, epoch, mort_pred_time)\u001b[0m\n\u001b[0;32m    108\u001b[0m \u001b[1;33m\u001b[0m\u001b[0m\n\u001b[0;32m    109\u001b[0m             \u001b[0mself\u001b[0m\u001b[1;33m.\u001b[0m\u001b[0moptimiser\u001b[0m\u001b[1;33m.\u001b[0m\u001b[0mzero_grad\u001b[0m\u001b[1;33m(\u001b[0m\u001b[1;33m)\u001b[0m\u001b[1;33m\u001b[0m\u001b[1;33m\u001b[0m\u001b[0m\n\u001b[1;32m--> 110\u001b[1;33m             \u001b[0my_hat_los\u001b[0m\u001b[1;33m,\u001b[0m \u001b[0my_hat_mort\u001b[0m \u001b[1;33m=\u001b[0m \u001b[0mself\u001b[0m\u001b[1;33m.\u001b[0m\u001b[0mmodel\u001b[0m\u001b[1;33m(\u001b[0m\u001b[0mpadded\u001b[0m\u001b[1;33m,\u001b[0m \u001b[0mdiagnoses\u001b[0m\u001b[1;33m,\u001b[0m \u001b[0mflat\u001b[0m\u001b[1;33m)\u001b[0m\u001b[1;33m\u001b[0m\u001b[1;33m\u001b[0m\u001b[0m\n\u001b[0m\u001b[0;32m    111\u001b[0m             loss = self.model.loss(y_hat_los, y_hat_mort, los_labels, mort_labels, mask, seq_lengths, self.device,\n\u001b[0;32m    112\u001b[0m                                    self.config.sum_losses, self.config.loss)\n",
      "\u001b[1;32mc:\\users\\weich\\anaconda3\\envs\\dl4h-project\\lib\\site-packages\\torch\\nn\\modules\\module.py\u001b[0m in \u001b[0;36m_call_impl\u001b[1;34m(self, *input, **kwargs)\u001b[0m\n\u001b[0;32m   1100\u001b[0m         if not (self._backward_hooks or self._forward_hooks or self._forward_pre_hooks or _global_backward_hooks\n\u001b[0;32m   1101\u001b[0m                 or _global_forward_hooks or _global_forward_pre_hooks):\n\u001b[1;32m-> 1102\u001b[1;33m             \u001b[1;32mreturn\u001b[0m \u001b[0mforward_call\u001b[0m\u001b[1;33m(\u001b[0m\u001b[1;33m*\u001b[0m\u001b[0minput\u001b[0m\u001b[1;33m,\u001b[0m \u001b[1;33m**\u001b[0m\u001b[0mkwargs\u001b[0m\u001b[1;33m)\u001b[0m\u001b[1;33m\u001b[0m\u001b[1;33m\u001b[0m\u001b[0m\n\u001b[0m\u001b[0;32m   1103\u001b[0m         \u001b[1;31m# Do not call functions when jit is used\u001b[0m\u001b[1;33m\u001b[0m\u001b[1;33m\u001b[0m\u001b[1;33m\u001b[0m\u001b[0m\n\u001b[0;32m   1104\u001b[0m         \u001b[0mfull_backward_hooks\u001b[0m\u001b[1;33m,\u001b[0m \u001b[0mnon_full_backward_hooks\u001b[0m \u001b[1;33m=\u001b[0m \u001b[1;33m[\u001b[0m\u001b[1;33m]\u001b[0m\u001b[1;33m,\u001b[0m \u001b[1;33m[\u001b[0m\u001b[1;33m]\u001b[0m\u001b[1;33m\u001b[0m\u001b[1;33m\u001b[0m\u001b[0m\n",
      "\u001b[1;32mD:\\git\\DL4H-Project\\TPC-LoS-prediction\\models\\tpc_model.py\u001b[0m in \u001b[0;36mforward\u001b[1;34m(self, X, diagnoses, flat, time_before_pred)\u001b[0m\n\u001b[0;32m    602\u001b[0m                                                                         \u001b[0mpadding\u001b[0m\u001b[1;33m=\u001b[0m\u001b[0mself\u001b[0m\u001b[1;33m.\u001b[0m\u001b[0mlayers\u001b[0m\u001b[1;33m[\u001b[0m\u001b[0mi\u001b[0m\u001b[1;33m]\u001b[0m\u001b[1;33m[\u001b[0m\u001b[1;34m'padding'\u001b[0m\u001b[1;33m]\u001b[0m\u001b[1;33m,\u001b[0m\u001b[1;33m\u001b[0m\u001b[1;33m\u001b[0m\u001b[0m\n\u001b[0;32m    603\u001b[0m                                                                         \u001b[0mpoint_size\u001b[0m\u001b[1;33m=\u001b[0m\u001b[0mself\u001b[0m\u001b[1;33m.\u001b[0m\u001b[0mlayers\u001b[0m\u001b[1;33m[\u001b[0m\u001b[0mi\u001b[0m\u001b[1;33m]\u001b[0m\u001b[1;33m[\u001b[0m\u001b[1;34m'point_size'\u001b[0m\u001b[1;33m]\u001b[0m\u001b[1;33m,\u001b[0m\u001b[1;33m\u001b[0m\u001b[1;33m\u001b[0m\u001b[0m\n\u001b[1;32m--> 604\u001b[1;33m                                                                         **kwargs)\n\u001b[0m\u001b[0;32m    605\u001b[0m             \u001b[1;32melif\u001b[0m \u001b[0mself\u001b[0m\u001b[1;33m.\u001b[0m\u001b[0mmodel_type\u001b[0m \u001b[1;33m==\u001b[0m \u001b[1;34m'temp_only'\u001b[0m\u001b[1;33m:\u001b[0m\u001b[1;33m\u001b[0m\u001b[1;33m\u001b[0m\u001b[0m\n\u001b[0;32m    606\u001b[0m                 next_X = self.temp(X=next_X, temp_kernels=self.layers[i]['temp_kernels'],\n",
      "\u001b[1;32mD:\\git\\DL4H-Project\\TPC-LoS-prediction\\models\\tpc_model.py\u001b[0m in \u001b[0;36mtemp_pointwise\u001b[1;34m(self, B, T, X, repeat_flat, X_orig, temp, bn_temp, point, bn_point, temp_kernels, point_size, padding, prev_temp, prev_point, point_skip)\u001b[0m\n\u001b[0;32m    426\u001b[0m         \u001b[1;31m# X_padded(batch_size, ts_feature_size, left_padding+n_measure_of_patient)\u001b[0m\u001b[1;33m\u001b[0m\u001b[1;33m\u001b[0m\u001b[1;33m\u001b[0m\u001b[0m\n\u001b[0;32m    427\u001b[0m         \u001b[0mX_padded\u001b[0m \u001b[1;33m=\u001b[0m \u001b[0mpad\u001b[0m\u001b[1;33m(\u001b[0m\u001b[0mX\u001b[0m\u001b[1;33m,\u001b[0m \u001b[0mpadding\u001b[0m\u001b[1;33m,\u001b[0m \u001b[1;34m'constant'\u001b[0m\u001b[1;33m,\u001b[0m \u001b[1;36m0\u001b[0m\u001b[1;33m)\u001b[0m  \u001b[1;31m# B * ((F + Zt) * (Y + 1)) * (T + padding)\u001b[0m\u001b[1;33m\u001b[0m\u001b[1;33m\u001b[0m\u001b[0m\n\u001b[1;32m--> 428\u001b[1;33m         \u001b[0mX_temp\u001b[0m \u001b[1;33m=\u001b[0m \u001b[0mself\u001b[0m\u001b[1;33m.\u001b[0m\u001b[0mtemp_dropout\u001b[0m\u001b[1;33m(\u001b[0m\u001b[0mbn_temp\u001b[0m\u001b[1;33m(\u001b[0m\u001b[0mtemp\u001b[0m\u001b[1;33m(\u001b[0m\u001b[0mX_padded\u001b[0m\u001b[1;33m)\u001b[0m\u001b[1;33m)\u001b[0m\u001b[1;33m)\u001b[0m  \u001b[1;31m# B * ((F + Zt) * temp_kernels) * T\u001b[0m\u001b[1;33m\u001b[0m\u001b[1;33m\u001b[0m\u001b[0m\n\u001b[0m\u001b[0;32m    429\u001b[0m \u001b[1;33m\u001b[0m\u001b[0m\n\u001b[0;32m    430\u001b[0m         X_concat = cat(self.remove_none((prev_temp,  # (B * T) * ((F + Zt-1) * Y)\n",
      "\u001b[1;32mc:\\users\\weich\\anaconda3\\envs\\dl4h-project\\lib\\site-packages\\torch\\nn\\modules\\module.py\u001b[0m in \u001b[0;36m_call_impl\u001b[1;34m(self, *input, **kwargs)\u001b[0m\n\u001b[0;32m   1100\u001b[0m         if not (self._backward_hooks or self._forward_hooks or self._forward_pre_hooks or _global_backward_hooks\n\u001b[0;32m   1101\u001b[0m                 or _global_forward_hooks or _global_forward_pre_hooks):\n\u001b[1;32m-> 1102\u001b[1;33m             \u001b[1;32mreturn\u001b[0m \u001b[0mforward_call\u001b[0m\u001b[1;33m(\u001b[0m\u001b[1;33m*\u001b[0m\u001b[0minput\u001b[0m\u001b[1;33m,\u001b[0m \u001b[1;33m**\u001b[0m\u001b[0mkwargs\u001b[0m\u001b[1;33m)\u001b[0m\u001b[1;33m\u001b[0m\u001b[1;33m\u001b[0m\u001b[0m\n\u001b[0m\u001b[0;32m   1103\u001b[0m         \u001b[1;31m# Do not call functions when jit is used\u001b[0m\u001b[1;33m\u001b[0m\u001b[1;33m\u001b[0m\u001b[1;33m\u001b[0m\u001b[0m\n\u001b[0;32m   1104\u001b[0m         \u001b[0mfull_backward_hooks\u001b[0m\u001b[1;33m,\u001b[0m \u001b[0mnon_full_backward_hooks\u001b[0m \u001b[1;33m=\u001b[0m \u001b[1;33m[\u001b[0m\u001b[1;33m]\u001b[0m\u001b[1;33m,\u001b[0m \u001b[1;33m[\u001b[0m\u001b[1;33m]\u001b[0m\u001b[1;33m\u001b[0m\u001b[1;33m\u001b[0m\u001b[0m\n",
      "\u001b[1;32mc:\\users\\weich\\anaconda3\\envs\\dl4h-project\\lib\\site-packages\\torch\\nn\\modules\\conv.py\u001b[0m in \u001b[0;36mforward\u001b[1;34m(self, input)\u001b[0m\n\u001b[0;32m    299\u001b[0m \u001b[1;33m\u001b[0m\u001b[0m\n\u001b[0;32m    300\u001b[0m     \u001b[1;32mdef\u001b[0m \u001b[0mforward\u001b[0m\u001b[1;33m(\u001b[0m\u001b[0mself\u001b[0m\u001b[1;33m,\u001b[0m \u001b[0minput\u001b[0m\u001b[1;33m:\u001b[0m \u001b[0mTensor\u001b[0m\u001b[1;33m)\u001b[0m \u001b[1;33m->\u001b[0m \u001b[0mTensor\u001b[0m\u001b[1;33m:\u001b[0m\u001b[1;33m\u001b[0m\u001b[1;33m\u001b[0m\u001b[0m\n\u001b[1;32m--> 301\u001b[1;33m         \u001b[1;32mreturn\u001b[0m \u001b[0mself\u001b[0m\u001b[1;33m.\u001b[0m\u001b[0m_conv_forward\u001b[0m\u001b[1;33m(\u001b[0m\u001b[0minput\u001b[0m\u001b[1;33m,\u001b[0m \u001b[0mself\u001b[0m\u001b[1;33m.\u001b[0m\u001b[0mweight\u001b[0m\u001b[1;33m,\u001b[0m \u001b[0mself\u001b[0m\u001b[1;33m.\u001b[0m\u001b[0mbias\u001b[0m\u001b[1;33m)\u001b[0m\u001b[1;33m\u001b[0m\u001b[1;33m\u001b[0m\u001b[0m\n\u001b[0m\u001b[0;32m    302\u001b[0m \u001b[1;33m\u001b[0m\u001b[0m\n\u001b[0;32m    303\u001b[0m \u001b[1;33m\u001b[0m\u001b[0m\n",
      "\u001b[1;32mc:\\users\\weich\\anaconda3\\envs\\dl4h-project\\lib\\site-packages\\torch\\nn\\modules\\conv.py\u001b[0m in \u001b[0;36m_conv_forward\u001b[1;34m(self, input, weight, bias)\u001b[0m\n\u001b[0;32m    296\u001b[0m                             _single(0), self.dilation, self.groups)\n\u001b[0;32m    297\u001b[0m         return F.conv1d(input, weight, bias, self.stride,\n\u001b[1;32m--> 298\u001b[1;33m                         self.padding, self.dilation, self.groups)\n\u001b[0m\u001b[0;32m    299\u001b[0m \u001b[1;33m\u001b[0m\u001b[0m\n\u001b[0;32m    300\u001b[0m     \u001b[1;32mdef\u001b[0m \u001b[0mforward\u001b[0m\u001b[1;33m(\u001b[0m\u001b[0mself\u001b[0m\u001b[1;33m,\u001b[0m \u001b[0minput\u001b[0m\u001b[1;33m:\u001b[0m \u001b[0mTensor\u001b[0m\u001b[1;33m)\u001b[0m \u001b[1;33m->\u001b[0m \u001b[0mTensor\u001b[0m\u001b[1;33m:\u001b[0m\u001b[1;33m\u001b[0m\u001b[1;33m\u001b[0m\u001b[0m\n",
      "\u001b[1;31mKeyboardInterrupt\u001b[0m: "
     ]
    }
   ],
   "source": [
    "run_tpc()"
   ]
  },
  {
   "cell_type": "markdown",
   "id": "8503e9a0-308f-4fdf-b63e-bdd968c68e1a",
   "metadata": {},
   "source": [
    "# Transfomer"
   ]
  },
  {
   "cell_type": "code",
   "execution_count": null,
   "id": "bf0b06c3-e494-4f39-9b23-0c790eb0d6eb",
   "metadata": {},
   "outputs": [],
   "source": [
    "def run_transformer():\n",
    "    c = initialise_transformer_arguments()\n",
    "    c['exp_name'] = 'Transformer'\n",
    "\n",
    "    log_folder_path = create_folder('models/experiments/{}/{}'.format(c.dataset, c.task), c.exp_name)\n",
    "    baseline_transformer = BaselineTransformer(config=c,\n",
    "                                               n_epochs=c.n_epochs,\n",
    "                                               name=c.exp_name,\n",
    "                                               base_dir=log_folder_path,\n",
    "                                               explogger_kwargs={'folder_format': '%Y-%m-%d_%H%M%S{run_number}'})\n",
    "    baseline_transformer.run()"
   ]
  },
  {
   "cell_type": "code",
   "execution_count": null,
   "id": "c5ce104f-7c0b-4ae7-a02f-1efa0e5274a4",
   "metadata": {},
   "outputs": [],
   "source": [
    "run_transformer()"
   ]
  },
  {
   "cell_type": "markdown",
   "id": "6f76c063-cfe8-4791-aaed-4504b554c289",
   "metadata": {},
   "source": [
    "# LSTM"
   ]
  },
  {
   "cell_type": "code",
   "execution_count": 5,
   "id": "2de4093c-f6ec-47a1-9227-002fe5347d1c",
   "metadata": {},
   "outputs": [],
   "source": [
    "def run_lstm():\n",
    "    c = initialise_lstm_arguments()\n",
    "    c['exp_name'] = 'LSTM'\n",
    "\n",
    "    log_folder_path = create_folder('models/experiments/{}/{}'.format(c.dataset, c.task), c.exp_name)\n",
    "    baseline_lstm = BaselineLSTM(config=c,\n",
    "                                 n_epochs=c.n_epochs,\n",
    "                                 name=c.exp_name,\n",
    "                                 base_dir=log_folder_path,\n",
    "                                 explogger_kwargs={'folder_format': '%Y-%m-%d_%H%M%S{run_number}'})\n",
    "    baseline_lstm.run()"
   ]
  },
  {
   "cell_type": "code",
   "execution_count": null,
   "id": "7331d2c0-1a1d-45e0-b867-56cd340fc47a",
   "metadata": {},
   "outputs": [],
   "source": [
    "run_lstm()"
   ]
  }
 ],
 "metadata": {
  "kernelspec": {
   "display_name": "Python 3 (ipykernel)",
   "language": "python",
   "name": "python3"
  },
  "language_info": {
   "codemirror_mode": {
    "name": "ipython",
    "version": 3
   },
   "file_extension": ".py",
   "mimetype": "text/x-python",
   "name": "python",
   "nbconvert_exporter": "python",
   "pygments_lexer": "ipython3",
   "version": "3.7.13"
  }
 },
 "nbformat": 4,
 "nbformat_minor": 5
}
